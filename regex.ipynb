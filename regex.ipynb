{
 "cells": [
  {
   "cell_type": "markdown",
   "metadata": {},
   "source": [
    "# Curriculum\n",
    "\n",
    "- regex (short for 'regular expressions') is most commonly used in two ways:\n",
    "    \n",
    "    1.) to find / extract text that matches a pattern; and \n",
    "    \n",
    "    2.) To replace / substitute text that matches a pattern\n",
    "    \n",
    "    \n",
    "- module is 're' - that's what I import\n",
    "\n",
    "- the two main functions in 're' that I will use are '.findall', and '.search'\n",
    "\n",
    "**A note on raw strings:**\n",
    "    \n",
    "    - carry the prefix 'r'\n",
    "    \n",
    "    - backslashes are included in the sting verbatim, and don't carry any special meaning.  For instance, 'and/or' is 'and' or 'or'\n",
    "    \n",
    "    - common in regex, so don't freak out\n",
    "    "
   ]
  },
  {
   "cell_type": "code",
   "execution_count": 1,
   "metadata": {},
   "outputs": [],
   "source": [
    "import re"
   ]
  },
  {
   "cell_type": "code",
   "execution_count": 57,
   "metadata": {},
   "outputs": [
    {
     "data": {
      "text/plain": [
       "['b']"
      ]
     },
     "execution_count": 57,
     "metadata": {},
     "output_type": "execute_result"
    }
   ],
   "source": [
    "re.findall(r'b', 'abcd') \n",
    "\n",
    "# we're looking for pattern 'b' in the string 'abcd'"
   ]
  },
  {
   "cell_type": "code",
   "execution_count": 3,
   "metadata": {},
   "outputs": [],
   "source": [
    "# function to simplify the process of showing many results form regex:\n",
    "\n",
    "def show_all_matches(regexes, subject, re_length=6):\n",
    "    \"\"\"\n",
    "    function that takes in the regexes, the subject, and the length, and prints out the results\n",
    "    \"\"\"\n",
    "    print(\"Sentence: \")\n",
    "    print()\n",
    "    print(\"      {}\".format(subject))\n",
    "    print()\n",
    "    print(\" regexp{} | matches\".format(' ' * (re_length - 6)))\n",
    "    print(\" ------{} | -------\".format(' ' * (re_length - 6)))\n",
    "    for regexp in regexes:\n",
    "        fmt = \"  {:<%d} | {!r}\" % re_length\n",
    "        matches = re.findall(regexp, subject)\n",
    "        if len(matches) > 8:\n",
    "            matches = matches[:8] + ['...']\n",
    "        print(fmt.format(regexp, matches))"
   ]
  },
  {
   "cell_type": "code",
   "execution_count": 4,
   "metadata": {},
   "outputs": [],
   "source": [
    "sentence = \"Mary had a little lamb. 1 little lamb.  Not 10, not 12, not 22, just one.\""
   ]
  },
  {
   "cell_type": "code",
   "execution_count": 5,
   "metadata": {},
   "outputs": [
    {
     "name": "stdout",
     "output_type": "stream",
     "text": [
      "Sentence: \n",
      "\n",
      "      Mary had a little lamb. 1 little lamb.  Not 10, not 12, not 22, just one.\n",
      "\n",
      " regexp | matches\n",
      " ------ | -------\n",
      "  a      | ['a', 'a', 'a', 'a', 'a']\n",
      "  m      | ['m', 'm']\n",
      "  M      | ['M']\n",
      "  Mary   | ['Mary']\n",
      "  little | ['little', 'little']\n",
      "  1      | ['1', '1', '1']\n",
      "  10     | ['10']\n",
      "  22     | ['22']\n"
     ]
    }
   ],
   "source": [
    "show_all_matches([\n",
    "r'a',\n",
    "r'm',\n",
    "r'M', \n",
    "r'Mary',\n",
    "r'little', \n",
    "r'1',\n",
    "r'10', \n",
    "r'22'], sentence)"
   ]
  },
  {
   "cell_type": "markdown",
   "metadata": {},
   "source": [
    "## Metacharacters and Character Classes\n",
    "\n",
    "**METACHARACTERS** match several different kinds of characters, BUT DON'T MATCH THE CHARACTER ITSELF literally\n",
    "\n",
    "Not only that, but metacharacters have to be escaped to match the character itself. \n",
    "\n",
    "METACHARACTER  |  WHAT IT MATCHES\n",
    "\n",
    ". _______________ Anything\n",
    "\n",
    "\\w ______________ ANY letter or number\n",
    "\n",
    "\\W ______________ Anything that's NOT a letter or number\n",
    "\n",
    "\\d ______________ Any DIGIT\n",
    "\n",
    "\\D ______________ Any NON-DIGIT\n",
    "\n",
    "\\s ______________ Any WHITESPACE character"
   ]
  },
  {
   "cell_type": "code",
   "execution_count": 6,
   "metadata": {},
   "outputs": [
    {
     "name": "stdout",
     "output_type": "stream",
     "text": [
      "Sentence: \n",
      "\n",
      "      Mary had a little lamb. 1 little lamb.  Not 10, not 12, not 22, just one.\n",
      "\n",
      " regexp | matches\n",
      " ------ | -------\n",
      "  \\w     | ['M', 'a', 'r', 'y', 'h', 'a', 'd', 'a', '...']\n",
      "  \\d     | ['1', '1', '0', '1', '2', '2', '2']\n",
      "  \\s     | [' ', ' ', ' ', ' ', ' ', ' ', ' ', ' ', '...']\n",
      "  .      | ['M', 'a', 'r', 'y', ' ', 'h', 'a', 'd', '...']\n",
      "  \\.     | ['.', '.', '.']\n"
     ]
    }
   ],
   "source": [
    "res = [\n",
    "    r'\\w', # matches everything but the spaces\n",
    "    r'\\d', # matches all the digits (numbers)\n",
    "    r'\\s', # matches all the whitespace characters\n",
    "    r'.', # matches every character, including spaces\n",
    "    r'\\.' # matches all the actual, literal periods\n",
    "]\n",
    "\n",
    "show_all_matches(res, sentence)"
   ]
  },
  {
   "cell_type": "markdown",
   "metadata": {},
   "source": [
    "### Lookie, lookie!  You can combine regex characters to do multiple things!"
   ]
  },
  {
   "cell_type": "code",
   "execution_count": 7,
   "metadata": {},
   "outputs": [
    {
     "name": "stdout",
     "output_type": "stream",
     "text": [
      "Sentence: \n",
      "\n",
      "      Mary had a little lamb. 1 little lamb.  Not 10, not 12, not 22, just one.\n",
      "\n",
      " regexp    | matches\n",
      " ------    | -------\n",
      "  l\\w\\w\\w\\W | ['lamb.', 'lamb.']\n",
      "  \\d\\d      | ['10', '12', '22']\n"
     ]
    }
   ],
   "source": [
    "show_all_matches([r'l\\w\\w\\w\\W', r'\\d\\d'], sentence, re_length=9) "
   ]
  },
  {
   "cell_type": "markdown",
   "metadata": {},
   "source": [
    "**^^ 'l\\w\\w\\w\\W' matched 'lamb.'  '\\d\\d' matched numbers that were in pairs.  If I increased the 'l\\w' stuff by another w, it would look for a longer word that began with 'l'.**"
   ]
  },
  {
   "cell_type": "markdown",
   "metadata": {},
   "source": [
    "## Repeating\n",
    "\n",
    "There are some metacharacters that match the character before them a repeated number of times:\n",
    "    \n",
    "\\* = zero or more matches\n",
    "\n",
    "\\+ = one or more matches\n",
    "\n",
    "{n} = exactly n number of matches (repetitions)\n",
    "\n",
    "{n, } = n or more repetitions\n",
    "\n",
    "{n, m} = betwen n and m reptetitions\n",
    "\n",
    "? = the character before it (the ?) is optional character"
   ]
  },
  {
   "cell_type": "code",
   "execution_count": 8,
   "metadata": {},
   "outputs": [
    {
     "name": "stdout",
     "output_type": "stream",
     "text": [
      "Sentence: \n",
      "\n",
      "      Mary had a little lamb. 1 little lamb.  Not 10, not 12, not 22, just one.\n",
      "\n",
      " regexp | matches\n",
      " ------ | -------\n",
      "  \\d+    | ['1', '10', '12', '22']\n"
     ]
    }
   ],
   "source": [
    "show_all_matches([r'\\d+'], sentence)"
   ]
  },
  {
   "cell_type": "code",
   "execution_count": 9,
   "metadata": {},
   "outputs": [
    {
     "name": "stdout",
     "output_type": "stream",
     "text": [
      "\n",
      "---\n",
      "\n"
     ]
    }
   ],
   "source": [
    "print('\\n---\\n')"
   ]
  },
  {
   "cell_type": "code",
   "execution_count": 58,
   "metadata": {},
   "outputs": [
    {
     "name": "stdout",
     "output_type": "stream",
     "text": [
      "Sentence: \n",
      "\n",
      "      aabbaaaa\n",
      "\n",
      " regexp | matches\n",
      " ------ | -------\n",
      "  a{2,}  | ['aa', 'aaaa']\n",
      "  a{2}   | ['aa', 'aa', 'aa']\n",
      "  a{3,4} | ['aaaa']\n"
     ]
    }
   ],
   "source": [
    "show_all_matches([r'a{2,}', # matches 2 or more a's\n",
    "                  r'a{2}', # matches a's in groups of 2\n",
    "                  r'a{3,4}'], # matches where a is in a group of either 3 or 4\n",
    "                 'aabbaaaa')"
   ]
  },
  {
   "cell_type": "markdown",
   "metadata": {},
   "source": [
    "## Any or None Of\n",
    "\n",
    "- **SQUARE BRACKETS** = single character that will match any of the values within the square brackets.  Eg: '[ab]' will match EITHER 'a' or 'b'.\n",
    "\n",
    "IF THE FIRST CHARACTER IN THE BRACKETS IS A '^' (caret), then anything that is NOT inside the [ ] will be matched.  For example, [^'ab'] will match any character that is NOT 'a' OR 'b'. \n",
    "\n",
    "**VIMP**\n",
    "\n",
    "Ranges of digits AND letters can be abbreviated with a hyphen"
   ]
  },
  {
   "cell_type": "code",
   "execution_count": 11,
   "metadata": {},
   "outputs": [
    {
     "name": "stdout",
     "output_type": "stream",
     "text": [
      "Sentence: \n",
      "\n",
      "      Mary had a little lamb. 1 little lamb.  Not 10, not 12, not 22, just one.\n",
      "\n",
      " regexp       | matches\n",
      " ------       | -------\n",
      "  [lt]         | ['l', 't', 't', 'l', 'l', 'l', 't', 't', '...']\n",
      "  [lt]+        | ['l', 'ttl', 'l', 'l', 'ttl', 'l', 't', 't', '...']\n",
      "  [^aeiou\\s\\.] | ['M', 'r', 'y', 'h', 'd', 'l', 't', 't', '...']\n",
      "  [a-d]        | ['a', 'a', 'd', 'a', 'a', 'b', 'a', 'b']\n"
     ]
    }
   ],
   "source": [
    "show_all_matches([r'[lt]', # matches all l's and t's individually\n",
    "                  r'[lt]+', # matches all l's and t's, literally and in combos where 'l' and 't' are together\n",
    "                  r'[^aeiou\\s\\.]', # matches anything that's not a vowel or a space or a period\n",
    "                  r'[a-d]'], # matches anything that's a, b, c, or d.\n",
    "                 sentence, re_length=12)"
   ]
  },
  {
   "cell_type": "markdown",
   "metadata": {},
   "source": [
    "# Anchors\n",
    "\n",
    "- Metacharacters that don't match any individual characters, but ANCHOR the rest of the regular expression\n",
    "\n",
    "- '^' matches \"The start of the string / line\"\n",
    "\n",
    "- '$' matches \"The end of the string / line\"\n",
    "\n",
    "- '\\b' matches \"a word boundary -> the alphanumeric value that comes after a word boundary\" \n",
    "\n",
    "**On word boundaries:**\n",
    "\n",
    "\n",
    "- a word boundary is any character that is NOT a word character - can be a space, a dash, a tab\n",
    "    \n",
    "- useful in finding whole / partial word searches \n",
    "\n",
    "- say I want to find words that END WITH 'and', not just the word 'and'.  'and\\b' will get me all the 'and' words by themselves because they have a space - a word boundary - after the 'd.'  Also, it will find me all the words that end in 'and' for the same reason\n",
    "\n",
    "- If I want to find words that BEGIN WITH 'and', just put the '\\b' at the front, '\\band'\n",
    "\n",
    "- If I want to find ONLY where 'and' is PART OF A WORD - not by itself, not only at the beginning, not only at the end, but within words, I would type 'b\\and\\w+'.  That basically says 'match words that begin with 'and' and have word characters follwing.'  This will find 'andouille', 'andromeda', and 'androgen', but not 'and' by itself\n",
    "\n",
    "\n",
    "**VIMP**\n",
    "\n",
    "Numbers in regex are considered word characters\n"
   ]
  },
  {
   "cell_type": "code",
   "execution_count": 12,
   "metadata": {},
   "outputs": [
    {
     "name": "stdout",
     "output_type": "stream",
     "text": [
      "Sentence: \n",
      "\n",
      "      Mary had a little lamb. 1 little lamb.  Not 10, not 12, not 22, just one.\n",
      "\n",
      " regexp | matches\n",
      " ------ | -------\n",
      "  \\bo\\w+ | ['one']\n",
      "  ^\\s    | []\n",
      "  ^M     | ['M']\n",
      "  \\.$    | ['.']\n"
     ]
    }
   ],
   "source": [
    "show_all_matches([\n",
    "    r'\\bo\\w+', # finds all words that begin with 'o'\n",
    "    r'^\\s', # matches that start with a space\n",
    "    r'^M', # matches things that begin withcapital 'm'\n",
    "    r'\\.$' # matches the period at end of string.  If a !, ?, or '', mark, it won't find it, but the period before\n",
    "], sentence)"
   ]
  },
  {
   "cell_type": "markdown",
   "metadata": {},
   "source": [
    "### Other Common Features:\n",
    "\n",
    "- 'match' = Matches from start of string\n",
    "\n",
    "- 'search' = Finds the first instance of the regular expression\n",
    "\n",
    "- 'sub' = Make substitutions with regular expression\n",
    "\n",
    "- 'compile' = Prepare a regex for use ahead of time\n",
    "\n",
    "## Capture Groups\n",
    " \n",
    "    **comeback2**"
   ]
  },
  {
   "cell_type": "code",
   "execution_count": 13,
   "metadata": {},
   "outputs": [],
   "source": [
    "sentence = \"\"\"\n",
    "You can find us on the web at https://codeup.com.  Our ip address is 123.123.123.123 (maybe).\n",
    "\"\"\".strip()"
   ]
  },
  {
   "cell_type": "code",
   "execution_count": 14,
   "metadata": {},
   "outputs": [
    {
     "data": {
      "text/plain": [
       "'You can find us on the web at https://codeup.com.  Our ip address is 123.123.123.123 (maybe).'"
      ]
     },
     "execution_count": 14,
     "metadata": {},
     "output_type": "execute_result"
    }
   ],
   "source": [
    "sentence"
   ]
  },
  {
   "cell_type": "code",
   "execution_count": 15,
   "metadata": {},
   "outputs": [
    {
     "data": {
      "text/plain": [
       "'123.123.123.123'"
      ]
     },
     "execution_count": 15,
     "metadata": {},
     "output_type": "execute_result"
    }
   ],
   "source": [
    "ip_re = r'\\d+(\\.\\d+){3}' # Braces indicate # of groups it'll capture.\n",
    "\n",
    "# if I have {3}, it'll grab 3 periods and the numbers on both sides of the period:\n",
    "\n",
    "# ip_re = r'\\d+(\\.\\d+){3} = 123.123.123.123\n",
    "\n",
    "# if I have {2}, it'll grab 2 periods and the numbers on both sides of the period:\n",
    "\n",
    "# ip_re = r'\\d+(\\.\\d+){2} = 123.123.123\n",
    "\n",
    "# if I have {1}, it'll grab 1 period and the numbers on both sides of it\n",
    "\n",
    "# ip_re = r'\\d+(\\.\\d+){1} = 123.123\n",
    "\n",
    "match = re.search(ip_re, sentence)\n",
    "match[0]"
   ]
  },
  {
   "cell_type": "code",
   "execution_count": 16,
   "metadata": {},
   "outputs": [
    {
     "name": "stdout",
     "output_type": "stream",
     "text": [
      "\n",
      "protocol: https\n",
      "domain: codeup\n",
      "tld: com\n",
      "\n"
     ]
    }
   ],
   "source": [
    "# simplified for demonstration, a real url to parse urls would be mouch more complex\n",
    "\n",
    "# re: 'sentence'\n",
    "\n",
    "url_re = r'(https?)://(\\w+)\\.(\\w+)' # the '?' is \n",
    "\n",
    "protocol, domain, tld = re.search(url_re, sentence).groups()\n",
    "\n",
    "print(f\"\"\"\n",
    "protocol: {protocol}\n",
    "domain: {domain}\n",
    "tld: {tld}\n",
    "\"\"\"\n",
    ")"
   ]
  },
  {
   "cell_type": "markdown",
   "metadata": {},
   "source": [
    "### Non-Capturing (\"Shy\") Groups\n",
    "\n",
    "- add '?:' to the beginning of the group\n",
    "\n",
    "- groups can be named by adding '?P<group_name>'"
   ]
  },
  {
   "cell_type": "code",
   "execution_count": 17,
   "metadata": {},
   "outputs": [
    {
     "name": "stdout",
     "output_type": "stream",
     "text": [
      "\n",
      "groups: ('https', 'com')\n",
      "referencing a group by name: com\n",
      "group dictionary: {'protocol': 'https', 'tld': 'com'}      \n",
      "\n",
      "\n"
     ]
    }
   ],
   "source": [
    "url_re = r'(?P<protocol>https?)://(?:\\w+)\\.(?P<tld>\\w+)'\n",
    "\n",
    "match = re.search(url_re, sentence)\n",
    "\n",
    "print(f'''\n",
    "groups: {match.groups()}\n",
    "referencing a group by name: {match.group('tld')}\n",
    "group dictionary: {match.groupdict()}      \n",
    "\n",
    "''')"
   ]
  },
  {
   "cell_type": "markdown",
   "metadata": {},
   "source": [
    "## Substitution:\n",
    "\n",
    "- We can use regex to replace / remove parts of a string.  \n",
    "\n",
    "- Also, if the regex we supply has capture groups in it, the text captured can be referencd when making the substitution\n"
   ]
  },
  {
   "cell_type": "code",
   "execution_count": 18,
   "metadata": {},
   "outputs": [
    {
     "data": {
      "text/plain": [
       "'123'"
      ]
     },
     "execution_count": 18,
     "metadata": {},
     "output_type": "execute_result"
    }
   ],
   "source": [
    "# remove anything that IS NOT a DIGIT\n",
    "\n",
    "re.sub(r'\\D', '', 'abc 123')"
   ]
  },
  {
   "cell_type": "code",
   "execution_count": 19,
   "metadata": {},
   "outputs": [
    {
     "data": {
      "text/plain": [
       "'abc'"
      ]
     },
     "execution_count": 19,
     "metadata": {},
     "output_type": "execute_result"
    }
   ],
   "source": [
    "# removing anything that's NOT A LETTER\n",
    "\n",
    "re.sub(r'[^a-z]', '', 'abc 123')"
   ]
  },
  {
   "cell_type": "code",
   "execution_count": 20,
   "metadata": {},
   "outputs": [
    {
     "data": {
      "text/plain": [
       "'b'"
      ]
     },
     "execution_count": 20,
     "metadata": {},
     "output_type": "execute_result"
    }
   ],
   "source": [
    "re.sub(r'.(.).', r'\\1', 'abc')"
   ]
  },
  {
   "cell_type": "code",
   "execution_count": 21,
   "metadata": {},
   "outputs": [
    {
     "data": {
      "text/plain": [
       "'cba'"
      ]
     },
     "execution_count": 21,
     "metadata": {},
     "output_type": "execute_result"
    }
   ],
   "source": [
    "re.sub(r'(.)(.)(.)', r'\\3\\2\\1', 'abc')"
   ]
  },
  {
   "cell_type": "code",
   "execution_count": 22,
   "metadata": {},
   "outputs": [
    {
     "data": {
      "text/plain": [
       "'aX'"
      ]
     },
     "execution_count": 22,
     "metadata": {},
     "output_type": "execute_result"
    }
   ],
   "source": [
    "re.sub(r'.{2}$', 'X', 'abc')"
   ]
  },
  {
   "cell_type": "markdown",
   "metadata": {},
   "source": [
    "## Regex Flags\n",
    "\n",
    "- add the below to the last argument of any regex expression, and that behavior will be enabled for that use of the regular exppression:\n",
    "\n",
    "re.MULTILINE = the ^ and $ anchors will apply line by line instead of working on only the start and end of the string\n",
    "\n",
    "\n",
    "re.IGNORECASE = IGNORES character casing when matching\n",
    "\n",
    "\n",
    "re.VERBOSE = Ignores all whitespace \n",
    "\n",
    "           = Makes regex more readable\n",
    "    \n",
    "           = Can be combined with non-capturing comment groups\n",
    "        \n",
    "           = useful b/c you can split things up and comment out w/ this special capture group: (?#'commnent')\n",
    "    \n",
    "\n",
    "\n"
   ]
  },
  {
   "cell_type": "code",
   "execution_count": 23,
   "metadata": {},
   "outputs": [],
   "source": [
    "regexp = r'''\n",
    "[aeiou](?# any vowel)\n",
    "[^aeiou](?# followed by a non-vowel)\n",
    "'''"
   ]
  },
  {
   "cell_type": "code",
   "execution_count": 24,
   "metadata": {},
   "outputs": [
    {
     "data": {
      "text/plain": [
       "'\\n[aeiou](?# any vowel)\\n[^aeiou](?# followed by a non-vowel)\\n'"
      ]
     },
     "execution_count": 24,
     "metadata": {},
     "output_type": "execute_result"
    }
   ],
   "source": [
    "regexp"
   ]
  },
  {
   "cell_type": "markdown",
   "metadata": {},
   "source": [
    "**^^ Is the same as v v when the VERBOSE flag is set**"
   ]
  },
  {
   "cell_type": "code",
   "execution_count": 25,
   "metadata": {},
   "outputs": [],
   "source": [
    "regexp = r'[aeiou][^aeiou]'"
   ]
  },
  {
   "cell_type": "code",
   "execution_count": 26,
   "metadata": {},
   "outputs": [
    {
     "data": {
      "text/plain": [
       "'[aeiou][^aeiou]'"
      ]
     },
     "execution_count": 26,
     "metadata": {},
     "output_type": "execute_result"
    }
   ],
   "source": [
    "regexp"
   ]
  },
  {
   "cell_type": "markdown",
   "metadata": {},
   "source": [
    "# Exercises\n",
    "\n",
    "### 1.) Write 'is_vowel' function that accepts a string as input and uses a regex to determine if the passed string is a vowel.  You can treat the result of 're.search' as a boolean that indecates whether or not the regex matches the given string."
   ]
  },
  {
   "cell_type": "code",
   "execution_count": 59,
   "metadata": {},
   "outputs": [],
   "source": [
    "# Mine:\n",
    "\n",
    "# def is_vowel(string):\n",
    "#     \"\"\"\n",
    "#     Function that takes in a string and uses regex to check if the passed string is a vowel.  \n",
    "#     \"\"\"\n",
    "#     regex = '^[aeiouAEIOU][A-Za-z0-9_]*'\n",
    "#     if(re.search(regex, string)):\n",
    "#         print(True)\n",
    "#     else:\n",
    "#         print(False)\n",
    "    \n",
    "\n",
    "# Ryan's:\n",
    "\n",
    "def is_vowel(string):\n",
    "    \"\"\"\n",
    "    Function to take in a string and use regex to determine if it's a vowel\n",
    "    \"\"\"\n",
    "    #starts with a character from this character class\n",
    "    #ends with a character from this other character class\n",
    "    regex = r'^[aeiouAEIOU]$'\n",
    "    return bool(re.search(regex, string))\n",
    "\n",
    "assert is_vowel(\"A\") == True\n",
    "assert is_vowel(\"B\") == False"
   ]
  },
  {
   "cell_type": "code",
   "execution_count": 60,
   "metadata": {},
   "outputs": [
    {
     "data": {
      "text/plain": [
       "False"
      ]
     },
     "execution_count": 60,
     "metadata": {},
     "output_type": "execute_result"
    }
   ],
   "source": [
    "is_vowel(\"b\")"
   ]
  },
  {
   "cell_type": "markdown",
   "metadata": {},
   "source": [
    "### 2.) Write a function named 'is_valid_username' that accepts a string as input.  A valid username starts with a lowercase letter, and only consists of lowercase letters, numbers, or the _ character.  Also, it should be NO LONGER than 32 characters.  This function should return either **True** or **False** depending on whether or not the string passed is a valid username."
   ]
  },
  {
   "cell_type": "code",
   "execution_count": 61,
   "metadata": {},
   "outputs": [],
   "source": [
    "# Mine\n",
    "\n",
    "# def is_valid_username(regexes, username, max_length=32):\n",
    "#     \"\"\"\n",
    "#     Function using regex to check the validity of a given username according to the rules above\n",
    "#     \"\"\"\n",
    "#     alpha = 'abcdefghijklmnopqrstuvwxyz'\n",
    "#     numb = '_0123456789'\n",
    "#     print(\"Your username: \")\n",
    "#     print()\n",
    "#     print(f\"  {string}\")\n",
    "#     for regexp in regexes:\n",
    "#         match = re.findall(r'^[alpha]', username)\n",
    "#         if len(match) <= 32:\n",
    "            \n",
    "# Ryan's:\n",
    "\n",
    "def is_valid_username(string):\n",
    "    \"\"\"\n",
    "    Function to determine if a username is valid based on the rules above\n",
    "    \"\"\"\n",
    "    return bool(re.search(r'^[a-z][a-z0-9_]{,31}$', string))\n",
    "\n",
    "assert is_valid_username(\"jane_janeway76\") == True\n",
    "assert is_valid_username(\"BillKEtas774g\") == False"
   ]
  },
  {
   "cell_type": "markdown",
   "metadata": {},
   "source": [
    "\n",
    "### 3.) Write a regex to capture phone numbers.  It should match all the following:\n",
    "\n",
    "- (210) 867-5309\n",
    "\n",
    "- +1 210.867-5309\n",
    "\n",
    "- 867-5309\n",
    "\n",
    "- 210-867-5309"
   ]
  },
  {
   "cell_type": "code",
   "execution_count": 63,
   "metadata": {},
   "outputs": [
    {
     "data": {
      "text/plain": [
       "[{'country_code': None,\n",
       "  'area_code': '210',\n",
       "  'exchange_code': '867',\n",
       "  'line_number': '5309'},\n",
       " {'country_code': '+1',\n",
       "  'area_code': '210',\n",
       "  'exchange_code': '867',\n",
       "  'line_number': '5309'},\n",
       " {'country_code': None,\n",
       "  'area_code': None,\n",
       "  'exchange_code': '867',\n",
       "  'line_number': '5309'},\n",
       " {'country_code': None,\n",
       "  'area_code': '210',\n",
       "  'exchange_code': '867',\n",
       "  'line_number': '5309'}]"
      ]
     },
     "execution_count": 63,
     "metadata": {},
     "output_type": "execute_result"
    }
   ],
   "source": [
    "# Mine\n",
    "\n",
    "# phone_number = '(210) 867-5309'\n",
    "# re.sub(r'\\b[^0-9]\\b', '', phone_number)\n",
    "\n",
    "# Ryans:\n",
    "\n",
    "numbers = [\n",
    "    \"(210) 867-5309\", \n",
    "    \"+1 210.867.5309\", \n",
    "    \"867-5309\", \n",
    "    \"210-867-5309\"\n",
    "    ]\n",
    "\n",
    "# parts of a phone number: Country Code = +1, Area Code = 210, Exchange Code = 226, Line number = 3232\n",
    "\n",
    "phone_number_re = re.compile(r'''\n",
    "^\n",
    "(?P<country_code>\\+\\d+)?\n",
    "\\D*?\n",
    "(?P<area_code>\\d{3})?\n",
    "\\D*?\n",
    "(?P<exchange_code>\\d{3})\n",
    "\\D*?\n",
    "(?P<line_number>\\d{4})\n",
    "\\D*\n",
    "$\n",
    "''', re.VERBOSE)\n",
    "\n",
    "# iterate through the list of strings, producing a dictionary containing named groups from each string\n",
    "\n",
    "phone_numbers = [re.search(phone_number_re, number).groupdict() for number in numbers]\n",
    "\n",
    "phone_numbers"
   ]
  },
  {
   "cell_type": "code",
   "execution_count": 65,
   "metadata": {},
   "outputs": [
    {
     "data": {
      "text/html": [
       "<div>\n",
       "<style scoped>\n",
       "    .dataframe tbody tr th:only-of-type {\n",
       "        vertical-align: middle;\n",
       "    }\n",
       "\n",
       "    .dataframe tbody tr th {\n",
       "        vertical-align: top;\n",
       "    }\n",
       "\n",
       "    .dataframe thead th {\n",
       "        text-align: right;\n",
       "    }\n",
       "</style>\n",
       "<table border=\"1\" class=\"dataframe\">\n",
       "  <thead>\n",
       "    <tr style=\"text-align: right;\">\n",
       "      <th></th>\n",
       "      <th>country_code</th>\n",
       "      <th>area_code</th>\n",
       "      <th>exchange_code</th>\n",
       "      <th>line_number</th>\n",
       "    </tr>\n",
       "  </thead>\n",
       "  <tbody>\n",
       "    <tr>\n",
       "      <th>0</th>\n",
       "      <td>None</td>\n",
       "      <td>210</td>\n",
       "      <td>867</td>\n",
       "      <td>5309</td>\n",
       "    </tr>\n",
       "    <tr>\n",
       "      <th>1</th>\n",
       "      <td>+1</td>\n",
       "      <td>210</td>\n",
       "      <td>867</td>\n",
       "      <td>5309</td>\n",
       "    </tr>\n",
       "    <tr>\n",
       "      <th>2</th>\n",
       "      <td>None</td>\n",
       "      <td>None</td>\n",
       "      <td>867</td>\n",
       "      <td>5309</td>\n",
       "    </tr>\n",
       "    <tr>\n",
       "      <th>3</th>\n",
       "      <td>None</td>\n",
       "      <td>210</td>\n",
       "      <td>867</td>\n",
       "      <td>5309</td>\n",
       "    </tr>\n",
       "  </tbody>\n",
       "</table>\n",
       "</div>"
      ],
      "text/plain": [
       "  country_code area_code exchange_code line_number\n",
       "0         None       210           867        5309\n",
       "1           +1       210           867        5309\n",
       "2         None      None           867        5309\n",
       "3         None       210           867        5309"
      ]
     },
     "execution_count": 65,
     "metadata": {},
     "output_type": "execute_result"
    }
   ],
   "source": [
    "# Now that we have a list of dictionaries, we can make a dataframe!  Cool!\n",
    "import pandas as pd\n",
    "import numpy as np\n",
    "\n",
    "df = pd.DataFrame(phone_numbers)\n",
    "df"
   ]
  },
  {
   "cell_type": "code",
   "execution_count": 66,
   "metadata": {},
   "outputs": [
    {
     "name": "stdout",
     "output_type": "stream",
     "text": [
      "<class 'pandas.core.frame.DataFrame'>\n",
      "RangeIndex: 4 entries, 0 to 3\n",
      "Data columns (total 4 columns):\n",
      "country_code     1 non-null object\n",
      "area_code        3 non-null object\n",
      "exchange_code    4 non-null object\n",
      "line_number      4 non-null object\n",
      "dtypes: object(4)\n",
      "memory usage: 256.0+ bytes\n"
     ]
    }
   ],
   "source": [
    "df.info()"
   ]
  },
  {
   "cell_type": "markdown",
   "metadata": {},
   "source": [
    "### 4.) Standardize the dates below:"
   ]
  },
  {
   "cell_type": "code",
   "execution_count": null,
   "metadata": {},
   "outputs": [],
   "source": [
    "# Convert the dates below to the standardized year-month-day format:\n",
    "\n"
   ]
  }
 ],
 "metadata": {
  "kernelspec": {
   "display_name": "Python 3",
   "language": "python",
   "name": "python3"
  },
  "language_info": {
   "codemirror_mode": {
    "name": "ipython",
    "version": 3
   },
   "file_extension": ".py",
   "mimetype": "text/x-python",
   "name": "python",
   "nbconvert_exporter": "python",
   "pygments_lexer": "ipython3",
   "version": "3.7.4"
  }
 },
 "nbformat": 4,
 "nbformat_minor": 2
}
